{
 "cells": [
  {
   "cell_type": "markdown",
   "metadata": {},
   "source": [
    "# Financial Technology Project: Lending Club"
   ]
  },
  {
   "cell_type": "markdown",
   "metadata": {},
   "source": [
    "In this project, I used borrowers' social and economic information to predict their loan status (\"fully paid\" or \"charged off\"). The data are downloaded and scraped from [Lending Club](https://www.lendingclub.com/info/download-data.action). The project has three parts. "
   ]
  },
  {
   "cell_type": "markdown",
   "metadata": {},
   "source": [
    "### Part I Data Preparation"
   ]
  },
  {
   "cell_type": "markdown",
   "metadata": {},
   "source": [
    "** This part includes three sections:**    \n",
    "* Fetch current and historical data (2014 data) from Lending Club\n",
    "* Unify feature formats of current loans (to lower case) and 2014 loans (remove underline in feature name)\n",
    "* Find common features of current and 2014 loans, keep only the common features, \"loanstatus\", and \"issued\" for 2014 loans and save to loan_2014.csv     \n",
    "\n",
    "I want to use the model not only to predict the historical loan status, but also in the future. Therefore, only the common features in both historical data and current data were used to train the model. There are some unique features in 2014 data, which may also be important. But since they are not in the current data, they cannot be used to predict the loan status in the future.  "
   ]
  },
  {
   "cell_type": "markdown",
   "metadata": {},
   "source": [
    "### Part II Exploratory Data Analysis"
   ]
  },
  {
   "cell_type": "markdown",
   "metadata": {},
   "source": [
    "** This part includes four sections:**    \n",
    "* Find out null features (in which all values are null). For other features, find out categorical and numeric features and separate them    \n",
    "* Examine categorical features one by one, consider how to work on them in the next step\n",
    "* Explore the relationship between categorical features and the target (loanstatus) by plots\n",
    "* Explore the distribution of numeric features with histogram. For the ones which do not spread out, look into their relationship with the target (loanstatus)    "
   ]
  },
  {
   "cell_type": "markdown",
   "metadata": {},
   "source": [
    "### Part III Modeling"
   ]
  },
  {
   "cell_type": "markdown",
   "metadata": {},
   "source": [
    "** This part includes five sections:**    \n",
    "* Select data: Get rid of null features, split train and test datasets in terms of issued time, select data with term of 36 months\n",
    "* Feature engineering and cleaning\n",
    "* Train a preliminary XGBoost model\n",
    "* Tuning hyperparameters with Bayesian Optimization\n",
    "* Find out the most important predictors based on the tuned model "
   ]
  },
  {
   "cell_type": "markdown",
   "metadata": {},
   "source": [
    "** Note: ** Historical data file is too large (more than 100 MB) and cannot be uploaded on to github"
   ]
  }
 ],
 "metadata": {
  "kernelspec": {
   "display_name": "Python 2",
   "language": "python",
   "name": "python2"
  },
  "language_info": {
   "codemirror_mode": {
    "name": "ipython",
    "version": 2
   },
   "file_extension": ".py",
   "mimetype": "text/x-python",
   "name": "python",
   "nbconvert_exporter": "python",
   "pygments_lexer": "ipython2",
   "version": "2.7.13"
  }
 },
 "nbformat": 4,
 "nbformat_minor": 2
}
