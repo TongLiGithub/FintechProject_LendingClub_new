{
 "cells": [
  {
   "cell_type": "markdown",
   "metadata": {},
   "source": [
    "# Lending Club: Modeling"
   ]
  },
  {
   "cell_type": "markdown",
   "metadata": {},
   "source": [
    "### Six things for building the model are done in this notebook:     \n",
    "* Select data: Get rid of null features, split train and test datasets in terms of issued time, select data with term of 36 months   \n",
    "* Feature engineering and cleaning    \n",
    "* XGBoost modeling: Preliminary     \n",
    "* Tuning hyperparameters with Bayesian Optimization   \n",
    "* Find out the most important predictors based on the tuned model\n",
    "* Save the model"
   ]
  },
  {
   "cell_type": "code",
   "execution_count": 1,
   "metadata": {},
   "outputs": [],
   "source": [
    "import pandas as pd\n",
    "import numpy as np\n",
    "import matplotlib.pyplot as plt\n",
    "import xgboost as xgb\n",
    "import seaborn as sns\n",
    "from bayes_opt import BayesianOptimization\n",
    "%matplotlib inline"
   ]
  },
  {
   "cell_type": "markdown",
   "metadata": {},
   "source": [
    "#### Load Data"
   ]
  },
  {
   "cell_type": "code",
   "execution_count": 2,
   "metadata": {},
   "outputs": [
    {
     "name": "stderr",
     "output_type": "stream",
     "text": [
      "C:\\Users\\Tong\\Anaconda2\\envs\\py36\\lib\\site-packages\\IPython\\core\\interactiveshell.py:2728: DtypeWarning: Columns (7,29) have mixed types. Specify dtype option on import or set low_memory=False.\n",
      "  interactivity=interactivity, compiler=compiler, result=result)\n"
     ]
    }
   ],
   "source": [
    "df1 = pd.read_csv('loan_2014.csv')"
   ]
  },
  {
   "cell_type": "code",
   "execution_count": 3,
   "metadata": {},
   "outputs": [
    {
     "data": {
      "text/plain": [
       "(235631, 105)"
      ]
     },
     "execution_count": 3,
     "metadata": {},
     "output_type": "execute_result"
    }
   ],
   "source": [
    "df1.shape"
   ]
  },
  {
   "cell_type": "code",
   "execution_count": 4,
   "metadata": {},
   "outputs": [
    {
     "name": "stdout",
     "output_type": "stream",
     "text": [
      "<class 'pandas.core.frame.DataFrame'>\n",
      "RangeIndex: 235631 entries, 0 to 235630\n",
      "Columns: 105 entries, percentbcgt75 to loanstatus\n",
      "dtypes: float64(85), object(20)\n",
      "memory usage: 188.8+ MB\n"
     ]
    }
   ],
   "source": [
    "df1.info()"
   ]
  },
  {
   "cell_type": "markdown",
   "metadata": {},
   "source": [
    "## 1. Select Data"
   ]
  },
  {
   "cell_type": "markdown",
   "metadata": {},
   "source": [
    "### 1.1 Select categorical and numeric features which are not null"
   ]
  },
  {
   "cell_type": "code",
   "execution_count": 5,
   "metadata": {},
   "outputs": [
    {
     "data": {
      "text/plain": [
       "percentbcgt75                 233072\n",
       "emptitle                      222393\n",
       "mthssincerecentrevoldelinq     84766\n",
       "verificationstatusjoint            0\n",
       "mthssincercntil                    0\n",
       "openactil                          0\n",
       "loanamnt                      235629\n",
       "desc                           15279\n",
       "collections12mthsexmed        235629\n",
       "pubrecbankruptcies            235629\n",
       "numactvrevtl                  235629\n",
       "memberid                           0\n",
       "term                          235629\n",
       "taxliens                      235629\n",
       "totalcutl                          0\n",
       "numiltl                       235629\n",
       "secappopenactil                    0\n",
       "totalrevhilim                 235629\n",
       "delinq2yrs                    235629\n",
       "accnowdelinq                  235629\n",
       "allutil                            0\n",
       "avgcurbal                     235623\n",
       "dti                           235629\n",
       "accopenpast24mths             235629\n",
       "numbctl                       235629\n",
       "numtl120dpd2m                 227769\n",
       "revolbal                      235629\n",
       "totcurbal                     235629\n",
       "totalacc                      235629\n",
       "id                                 2\n",
       "                               ...  \n",
       "openil24m                          0\n",
       "secappearliestcrline               0\n",
       "pcttlnvrdlq                   235629\n",
       "installment                   235629\n",
       "mortacc                       235629\n",
       "numactvbctl                   235629\n",
       "annualincjoint                     0\n",
       "dtijoint                           0\n",
       "openil12m                          0\n",
       "mosinoldrevtlop               235629\n",
       "subgrade                      235629\n",
       "numrevaccts                   235629\n",
       "earliestcrline                235629\n",
       "mthssincelastrecord            41524\n",
       "purpose                       235629\n",
       "pubrec                        235629\n",
       "inqfi                              0\n",
       "bcopentobuy                   233184\n",
       "ilutil                             0\n",
       "totalbalil                         0\n",
       "totcollamt                    235629\n",
       "inqlast6mths                  235629\n",
       "totalilhighcreditlimit        235629\n",
       "annualinc                     235629\n",
       "bcutil                        233018\n",
       "openrv24m                          0\n",
       "numoprevtl                    235629\n",
       "verificationstatus            235629\n",
       "issued                        235629\n",
       "loanstatus                    235629\n",
       "Length: 105, dtype: int64"
      ]
     },
     "execution_count": 5,
     "metadata": {},
     "output_type": "execute_result"
    }
   ],
   "source": [
    "df1.count()"
   ]
  },
  {
   "cell_type": "code",
   "execution_count": 6,
   "metadata": {},
   "outputs": [],
   "source": [
    "# get all_null_feature from EDA\n",
    "all_null_feature = [\n",
    "                    'verificationstatusjoint',\n",
    "                    'mthssincercntil',\n",
    "                    'openactil',\n",
    "                    'memberid',\n",
    "                    'totalcutl',\n",
    "                    'secappopenactil',\n",
    "                    'allutil',\n",
    "                    'secappinqlast6mths',\n",
    "                    'secappchargeoffwithin12mths',\n",
    "                    'secapprevolutil',\n",
    "                    'inqlast12m',\n",
    "                    'secappmortacc',\n",
    "                    'openrv12m',\n",
    "                    'secappcollections12mthsexmed',\n",
    "                    'openacc6m',\n",
    "                    'secappopenacc',\n",
    "                    'revolbaljoint',\n",
    "                    'secappnumrevaccts',\n",
    "                    'secappmthssincelastmajorderog',\n",
    "                    'maxbalbc',\n",
    "                    'openil24m',\n",
    "                    'secappearliestcrline',\n",
    "                    'annualincjoint',\n",
    "                    'dtijoint',\n",
    "                    'openil12m',\n",
    "                    'inqfi',\n",
    "                    'ilutil',\n",
    "                    'totalbalil',\n",
    "                    'openrv24m'\n",
    "                    ]                 "
   ]
  },
  {
   "cell_type": "code",
   "execution_count": 7,
   "metadata": {},
   "outputs": [],
   "source": [
    "cat_feature = [\n",
    "               'emptitle',\n",
    "               'desc',\n",
    "               'term',\n",
    "               'id',\n",
    "               'zipcode',\n",
    "               'intrate',\n",
    "               'initialliststatus',\n",
    "               'homeownership',\n",
    "               'grade',\n",
    "               'revolutil',\n",
    "               'applicationtype',\n",
    "               'emplength',\n",
    "               'addrstate',\n",
    "               'disbursementmethod',\n",
    "               'subgrade',\n",
    "               'earliestcrline',\n",
    "               'purpose',\n",
    "               'verificationstatus',\n",
    "               'issued',\n",
    "               'loanstatus'\n",
    "               ]"
   ]
  },
  {
   "cell_type": "code",
   "execution_count": 8,
   "metadata": {},
   "outputs": [],
   "source": [
    "num_feature = [\n",
    "               'percentbcgt75',\n",
    "               'mthssincerecentrevoldelinq',\n",
    "               'loanamnt',\n",
    "               'collections12mthsexmed',\n",
    "               'pubrecbankruptcies',\n",
    "               'numactvrevtl',\n",
    "               'taxliens',\n",
    "               'numiltl',\n",
    "               'totalrevhilim',\n",
    "               'delinq2yrs',\n",
    "               'accnowdelinq',\n",
    "               'avgcurbal',\n",
    "               'dti',\n",
    "               'accopenpast24mths',\n",
    "               'numbctl',\n",
    "               'numtl120dpd2m',\n",
    "               'revolbal',\n",
    "               'totcurbal',\n",
    "               'totalacc',\n",
    "               'openacc',\n",
    "               'fundedamnt',\n",
    "               'tothicredlim',\n",
    "               'numsats',\n",
    "               'mosinoldilacct',\n",
    "               'mthssincelastdelinq',\n",
    "               'delinqamnt',\n",
    "               'totalbclimit',\n",
    "               'chargeoffwithin12mths',\n",
    "               'mthssincerecentinq',\n",
    "               'numrevtlbalgt0',\n",
    "               'numtl90gdpd24m',\n",
    "               'mthssincelastmajorderog',\n",
    "               'mthssincerecentbc',\n",
    "               'totalbalexmort',\n",
    "               'numacctsever120pd',\n",
    "               'mosinrcntrevtlop',\n",
    "               'mthssincerecentbcdlq',\n",
    "               'numtl30dpd',\n",
    "               'numtloppast12m',\n",
    "               'mosinrcnttl',\n",
    "               'numbcsats',\n",
    "               'pcttlnvrdlq',\n",
    "               'installment',\n",
    "               'mortacc',\n",
    "               'numactvbctl',\n",
    "               'mosinoldrevtlop',\n",
    "               'numrevaccts',\n",
    "               'mthssincelastrecord',\n",
    "               'pubrec',\n",
    "               'bcopentobuy',\n",
    "               'totcollamt',\n",
    "               'inqlast6mths',\n",
    "               'totalilhighcreditlimit',\n",
    "               'annualinc',\n",
    "               'bcutil',\n",
    "               'numoprevtl'\n",
    "               ]"
   ]
  },
  {
   "cell_type": "code",
   "execution_count": 9,
   "metadata": {},
   "outputs": [
    {
     "data": {
      "text/plain": [
       "76"
      ]
     },
     "execution_count": 9,
     "metadata": {},
     "output_type": "execute_result"
    }
   ],
   "source": [
    "select_feature=cat_feature+num_feature\n",
    "len(select_feature)"
   ]
  },
  {
   "cell_type": "markdown",
   "metadata": {},
   "source": [
    "### 1.2 Remove several features based on the data EDA"
   ]
  },
  {
   "cell_type": "code",
   "execution_count": 10,
   "metadata": {},
   "outputs": [],
   "source": [
    "# remove applicationtype since it only has one value as 'individual'\n",
    "# remove disbursementmethod since it only has one value as 'cash'\n",
    "cat_feature.remove('applicationtype')\n",
    "cat_feature.remove('disbursementmethod')"
   ]
  },
  {
   "cell_type": "code",
   "execution_count": 11,
   "metadata": {},
   "outputs": [],
   "source": [
    "# remove fundedamnt since it always equals to 1 for issued loans and varied during different time of a current loan\n",
    "num_feature.remove('fundedamnt')"
   ]
  },
  {
   "cell_type": "code",
   "execution_count": 12,
   "metadata": {},
   "outputs": [],
   "source": [
    "# remove 'id','issued' and 'loanstatus' from cat_feature, since they are index, train/test flag and target\n",
    "cat_feature.remove('id')\n",
    "cat_feature.remove('loanstatus')\n",
    "cat_feature.remove('issued')"
   ]
  },
  {
   "cell_type": "code",
   "execution_count": 13,
   "metadata": {},
   "outputs": [],
   "source": [
    "# remove 'desc' from cat_feature\n",
    "cat_feature.remove('desc')"
   ]
  },
  {
   "cell_type": "code",
   "execution_count": 14,
   "metadata": {},
   "outputs": [
    {
     "data": {
      "text/plain": [
       "69"
      ]
     },
     "execution_count": 14,
     "metadata": {},
     "output_type": "execute_result"
    }
   ],
   "source": [
    "select_feature=cat_feature+num_feature\n",
    "len(select_feature)"
   ]
  },
  {
   "cell_type": "code",
   "execution_count": 15,
   "metadata": {},
   "outputs": [],
   "source": [
    "# selected features left and delete the last two rows which are null for all features\n",
    "df=df1[select_feature+['loanstatus','issued']][:-2]"
   ]
  },
  {
   "cell_type": "code",
   "execution_count": 16,
   "metadata": {},
   "outputs": [
    {
     "data": {
      "text/plain": [
       "(235629, 71)"
      ]
     },
     "execution_count": 16,
     "metadata": {},
     "output_type": "execute_result"
    }
   ],
   "source": [
    "df.shape"
   ]
  },
  {
   "cell_type": "markdown",
   "metadata": {},
   "source": [
    "### 1.3 Select term = 36 months, loanstatus = fully paid and charged off"
   ]
  },
  {
   "cell_type": "code",
   "execution_count": 17,
   "metadata": {},
   "outputs": [],
   "source": [
    "df = df.query(\"loanstatus == 'Fully Paid' or loanstatus == 'Charged Off' \")"
   ]
  },
  {
   "cell_type": "code",
   "execution_count": 18,
   "metadata": {},
   "outputs": [],
   "source": [
    "df = df.query(\"term ==' 36 months'\")"
   ]
  },
  {
   "cell_type": "code",
   "execution_count": 19,
   "metadata": {},
   "outputs": [
    {
     "data": {
      "text/plain": [
       "(162474, 71)"
      ]
     },
     "execution_count": 19,
     "metadata": {},
     "output_type": "execute_result"
    }
   ],
   "source": [
    "df.shape"
   ]
  },
  {
   "cell_type": "code",
   "execution_count": 20,
   "metadata": {},
   "outputs": [],
   "source": [
    "cat_feature.remove('term')"
   ]
  },
  {
   "cell_type": "markdown",
   "metadata": {},
   "source": [
    "### 1.4 Label target (loanstatus) with 0 and 1"
   ]
  },
  {
   "cell_type": "code",
   "execution_count": 21,
   "metadata": {},
   "outputs": [],
   "source": [
    "df['loanstatus'] = df.loanstatus.map({\"Charged Off\": 1, \"Fully Paid\": 0})"
   ]
  },
  {
   "cell_type": "code",
   "execution_count": 22,
   "metadata": {},
   "outputs": [
    {
     "name": "stdout",
     "output_type": "stream",
     "text": [
      "0    140202\n",
      "1     22272\n",
      "Name: loanstatus, dtype: int64\n",
      "0    0.86292\n",
      "1    0.13708\n",
      "Name: loanstatus, dtype: float64\n"
     ]
    }
   ],
   "source": [
    "print (df.loanstatus.value_counts())\n",
    "print (df.loanstatus.value_counts(normalize=True))"
   ]
  },
  {
   "cell_type": "code",
   "execution_count": 23,
   "metadata": {},
   "outputs": [
    {
     "data": {
      "text/html": [
       "<div>\n",
       "<style scoped>\n",
       "    .dataframe tbody tr th:only-of-type {\n",
       "        vertical-align: middle;\n",
       "    }\n",
       "\n",
       "    .dataframe tbody tr th {\n",
       "        vertical-align: top;\n",
       "    }\n",
       "\n",
       "    .dataframe thead th {\n",
       "        text-align: right;\n",
       "    }\n",
       "</style>\n",
       "<table border=\"1\" class=\"dataframe\">\n",
       "  <thead>\n",
       "    <tr style=\"text-align: right;\">\n",
       "      <th></th>\n",
       "      <th>emptitle</th>\n",
       "      <th>term</th>\n",
       "      <th>zipcode</th>\n",
       "      <th>intrate</th>\n",
       "      <th>initialliststatus</th>\n",
       "      <th>homeownership</th>\n",
       "      <th>grade</th>\n",
       "      <th>revolutil</th>\n",
       "      <th>emplength</th>\n",
       "      <th>addrstate</th>\n",
       "      <th>...</th>\n",
       "      <th>pubrec</th>\n",
       "      <th>bcopentobuy</th>\n",
       "      <th>totcollamt</th>\n",
       "      <th>inqlast6mths</th>\n",
       "      <th>totalilhighcreditlimit</th>\n",
       "      <th>annualinc</th>\n",
       "      <th>bcutil</th>\n",
       "      <th>numoprevtl</th>\n",
       "      <th>loanstatus</th>\n",
       "      <th>issued</th>\n",
       "    </tr>\n",
       "  </thead>\n",
       "  <tbody>\n",
       "    <tr>\n",
       "      <th>1</th>\n",
       "      <td>Truck Driver Delivery Personel</td>\n",
       "      <td>36 months</td>\n",
       "      <td>937xx</td>\n",
       "      <td>6.99%</td>\n",
       "      <td>w</td>\n",
       "      <td>MORTGAGE</td>\n",
       "      <td>A</td>\n",
       "      <td>31.6%</td>\n",
       "      <td>8 years</td>\n",
       "      <td>CA</td>\n",
       "      <td>...</td>\n",
       "      <td>0.0</td>\n",
       "      <td>7599.0</td>\n",
       "      <td>0.0</td>\n",
       "      <td>2.0</td>\n",
       "      <td>11325.0</td>\n",
       "      <td>58000.0</td>\n",
       "      <td>41.5</td>\n",
       "      <td>14.0</td>\n",
       "      <td>1</td>\n",
       "      <td>Dec-2014</td>\n",
       "    </tr>\n",
       "    <tr>\n",
       "      <th>3</th>\n",
       "      <td>Technical Specialist</td>\n",
       "      <td>36 months</td>\n",
       "      <td>850xx</td>\n",
       "      <td>13.66%</td>\n",
       "      <td>f</td>\n",
       "      <td>RENT</td>\n",
       "      <td>C</td>\n",
       "      <td>91.9%</td>\n",
       "      <td>&lt; 1 year</td>\n",
       "      <td>AZ</td>\n",
       "      <td>...</td>\n",
       "      <td>0.0</td>\n",
       "      <td>332.0</td>\n",
       "      <td>0.0</td>\n",
       "      <td>1.0</td>\n",
       "      <td>64031.0</td>\n",
       "      <td>50000.0</td>\n",
       "      <td>93.2</td>\n",
       "      <td>4.0</td>\n",
       "      <td>1</td>\n",
       "      <td>Dec-2014</td>\n",
       "    </tr>\n",
       "    <tr>\n",
       "      <th>5</th>\n",
       "      <td>Admin Specialist</td>\n",
       "      <td>36 months</td>\n",
       "      <td>077xx</td>\n",
       "      <td>13.66%</td>\n",
       "      <td>f</td>\n",
       "      <td>RENT</td>\n",
       "      <td>C</td>\n",
       "      <td>59.4%</td>\n",
       "      <td>10+ years</td>\n",
       "      <td>NJ</td>\n",
       "      <td>...</td>\n",
       "      <td>0.0</td>\n",
       "      <td>6494.0</td>\n",
       "      <td>0.0</td>\n",
       "      <td>0.0</td>\n",
       "      <td>24890.0</td>\n",
       "      <td>69000.0</td>\n",
       "      <td>69.2</td>\n",
       "      <td>8.0</td>\n",
       "      <td>0</td>\n",
       "      <td>Dec-2014</td>\n",
       "    </tr>\n",
       "    <tr>\n",
       "      <th>7</th>\n",
       "      <td>Store Manager</td>\n",
       "      <td>36 months</td>\n",
       "      <td>208xx</td>\n",
       "      <td>11.44%</td>\n",
       "      <td>f</td>\n",
       "      <td>RENT</td>\n",
       "      <td>B</td>\n",
       "      <td>20.2%</td>\n",
       "      <td>2 years</td>\n",
       "      <td>MD</td>\n",
       "      <td>...</td>\n",
       "      <td>0.0</td>\n",
       "      <td>12152.0</td>\n",
       "      <td>0.0</td>\n",
       "      <td>0.0</td>\n",
       "      <td>6000.0</td>\n",
       "      <td>26000.0</td>\n",
       "      <td>26.8</td>\n",
       "      <td>6.0</td>\n",
       "      <td>0</td>\n",
       "      <td>Dec-2014</td>\n",
       "    </tr>\n",
       "    <tr>\n",
       "      <th>9</th>\n",
       "      <td>Investment Consultant</td>\n",
       "      <td>36 months</td>\n",
       "      <td>483xx</td>\n",
       "      <td>11.99%</td>\n",
       "      <td>f</td>\n",
       "      <td>RENT</td>\n",
       "      <td>B</td>\n",
       "      <td>98%</td>\n",
       "      <td>8 years</td>\n",
       "      <td>MI</td>\n",
       "      <td>...</td>\n",
       "      <td>0.0</td>\n",
       "      <td>324.0</td>\n",
       "      <td>0.0</td>\n",
       "      <td>1.0</td>\n",
       "      <td>0.0</td>\n",
       "      <td>90000.0</td>\n",
       "      <td>98.5</td>\n",
       "      <td>5.0</td>\n",
       "      <td>1</td>\n",
       "      <td>Dec-2014</td>\n",
       "    </tr>\n",
       "  </tbody>\n",
       "</table>\n",
       "<p>5 rows × 71 columns</p>\n",
       "</div>"
      ],
      "text/plain": [
       "                         emptitle        term zipcode  intrate  \\\n",
       "1  Truck Driver Delivery Personel   36 months   937xx    6.99%   \n",
       "3            Technical Specialist   36 months   850xx   13.66%   \n",
       "5                Admin Specialist   36 months   077xx   13.66%   \n",
       "7                   Store Manager   36 months   208xx   11.44%   \n",
       "9           Investment Consultant   36 months   483xx   11.99%   \n",
       "\n",
       "  initialliststatus homeownership grade revolutil  emplength addrstate  \\\n",
       "1                 w      MORTGAGE     A     31.6%    8 years        CA   \n",
       "3                 f          RENT     C     91.9%   < 1 year        AZ   \n",
       "5                 f          RENT     C     59.4%  10+ years        NJ   \n",
       "7                 f          RENT     B     20.2%    2 years        MD   \n",
       "9                 f          RENT     B       98%    8 years        MI   \n",
       "\n",
       "     ...    pubrec bcopentobuy totcollamt inqlast6mths  \\\n",
       "1    ...       0.0      7599.0        0.0          2.0   \n",
       "3    ...       0.0       332.0        0.0          1.0   \n",
       "5    ...       0.0      6494.0        0.0          0.0   \n",
       "7    ...       0.0     12152.0        0.0          0.0   \n",
       "9    ...       0.0       324.0        0.0          1.0   \n",
       "\n",
       "   totalilhighcreditlimit  annualinc  bcutil  numoprevtl  loanstatus    issued  \n",
       "1                 11325.0    58000.0    41.5        14.0           1  Dec-2014  \n",
       "3                 64031.0    50000.0    93.2         4.0           1  Dec-2014  \n",
       "5                 24890.0    69000.0    69.2         8.0           0  Dec-2014  \n",
       "7                  6000.0    26000.0    26.8         6.0           0  Dec-2014  \n",
       "9                     0.0    90000.0    98.5         5.0           1  Dec-2014  \n",
       "\n",
       "[5 rows x 71 columns]"
      ]
     },
     "execution_count": 23,
     "metadata": {},
     "output_type": "execute_result"
    }
   ],
   "source": [
    "df.head()"
   ]
  },
  {
   "cell_type": "markdown",
   "metadata": {},
   "source": [
    "### 1.5 Set Oct~Dec as test data and others as train data, based on issued"
   ]
  },
  {
   "cell_type": "code",
   "execution_count": 24,
   "metadata": {},
   "outputs": [
    {
     "data": {
      "text/plain": [
       "['Dec-2014',\n",
       " 'Nov-2014',\n",
       " 'Oct-2014',\n",
       " 'Sep-2014',\n",
       " 'Aug-2014',\n",
       " 'Jul-2014',\n",
       " 'Jun-2014',\n",
       " 'May-2014',\n",
       " 'Apr-2014',\n",
       " 'Mar-2014',\n",
       " 'Feb-2014',\n",
       " 'Jan-2014']"
      ]
     },
     "execution_count": 24,
     "metadata": {},
     "output_type": "execute_result"
    }
   ],
   "source": [
    "issued=list(df['issued'].unique())\n",
    "issued"
   ]
  },
  {
   "cell_type": "code",
   "execution_count": 25,
   "metadata": {},
   "outputs": [
    {
     "data": {
      "text/plain": [
       "1    112548\n",
       "0     49926\n",
       "Name: train_flg, dtype: int64"
      ]
     },
     "execution_count": 25,
     "metadata": {},
     "output_type": "execute_result"
    }
   ],
   "source": [
    "df['train_flg'] = df.issued.apply(lambda x: 0 if x in issued[:3] else 1)\n",
    "df.train_flg.value_counts()"
   ]
  },
  {
   "cell_type": "markdown",
   "metadata": {},
   "source": [
    "## 2. Feature Engineering & Cleaning"
   ]
  },
  {
   "cell_type": "markdown",
   "metadata": {},
   "source": [
    "### 2.1 Convert datetime to numeric feature"
   ]
  },
  {
   "cell_type": "code",
   "execution_count": 26,
   "metadata": {},
   "outputs": [
    {
     "data": {
      "text/plain": [
       "array(['Sep-1989', 'Aug-2002', 'Nov-1992', 'May-2009', 'Jul-2003'], dtype=object)"
      ]
     },
     "execution_count": 26,
     "metadata": {},
     "output_type": "execute_result"
    }
   ],
   "source": [
    "df.earliestcrline.unique()[:5]"
   ]
  },
  {
   "cell_type": "markdown",
   "metadata": {},
   "source": [
    "Convert to number of months to Dec 2014"
   ]
  },
  {
   "cell_type": "code",
   "execution_count": 27,
   "metadata": {},
   "outputs": [],
   "source": [
    "cl_month=df.earliestcrline.apply(lambda x: x.split('-')[0])\n",
    "cl_year=df.earliestcrline.apply(lambda x: int(x.split('-')[1]))"
   ]
  },
  {
   "cell_type": "code",
   "execution_count": 28,
   "metadata": {},
   "outputs": [
    {
     "data": {
      "text/plain": [
       "array(['Sep', 'Aug', 'Nov', 'May', 'Jul', 'Oct', 'Jan', 'Jun', 'Dec',\n",
       "       'Feb', 'Apr', 'Mar'], dtype=object)"
      ]
     },
     "execution_count": 28,
     "metadata": {},
     "output_type": "execute_result"
    }
   ],
   "source": [
    "cl_month.unique()"
   ]
  },
  {
   "cell_type": "code",
   "execution_count": 29,
   "metadata": {},
   "outputs": [
    {
     "data": {
      "text/plain": [
       "array([1989, 2002, 1992, 2009, 2003, 2001, 1999, 1998, 1996, 1995, 1993,\n",
       "       2010, 2007, 2006, 1994, 2000, 2008, 1988, 2004, 2011, 1997, 1984,\n",
       "       2005, 1973, 1991, 1986, 1987, 1985, 1982, 1979, 1974, 1983, 1976,\n",
       "       1990, 1978, 1981, 1980, 1977, 1969, 1971, 1967, 1972, 1968, 1962,\n",
       "       1975, 1965, 1966, 1963, 1970, 1964, 1958, 1955, 1959, 1961, 1960,\n",
       "       1954, 1957, 1949, 1950, 1948, 1953, 1956], dtype=int64)"
      ]
     },
     "execution_count": 29,
     "metadata": {},
     "output_type": "execute_result"
    }
   ],
   "source": [
    "cl_year.unique()"
   ]
  },
  {
   "cell_type": "code",
   "execution_count": 30,
   "metadata": {},
   "outputs": [],
   "source": [
    "dic_month= {'Jan':11,'Feb':10,'Mar':9,'Apr':8, 'May':7, 'Jun':6, 'Jul':5, 'Aug':4, 'Sep':3, 'Oct':2, 'Nov':1, 'Dec':0}"
   ]
  },
  {
   "cell_type": "code",
   "execution_count": 31,
   "metadata": {},
   "outputs": [],
   "source": [
    "df['earliestcrline_month']=df.earliestcrline.apply(lambda x: (2014-int(x.split('-')[1]))*12+dic_month[x.split('-')[0]])"
   ]
  },
  {
   "cell_type": "code",
   "execution_count": 32,
   "metadata": {},
   "outputs": [
    {
     "data": {
      "text/plain": [
       "1    303\n",
       "3    148\n",
       "5    265\n",
       "7     67\n",
       "9    137\n",
       "Name: earliestcrline_month, dtype: int64"
      ]
     },
     "execution_count": 32,
     "metadata": {},
     "output_type": "execute_result"
    }
   ],
   "source": [
    "df.earliestcrline_month[:5]"
   ]
  },
  {
   "cell_type": "code",
   "execution_count": 33,
   "metadata": {},
   "outputs": [],
   "source": [
    "num_feature.append('earliestcrline_month')\n",
    "cat_feature.remove('earliestcrline')"
   ]
  },
  {
   "cell_type": "code",
   "execution_count": 34,
   "metadata": {},
   "outputs": [
    {
     "name": "stdout",
     "output_type": "stream",
     "text": [
      "12 56\n"
     ]
    }
   ],
   "source": [
    "print (len(cat_feature), len(num_feature))"
   ]
  },
  {
   "cell_type": "markdown",
   "metadata": {},
   "source": [
    "### 2.2 Convert emplength to numeric feature"
   ]
  },
  {
   "cell_type": "code",
   "execution_count": 35,
   "metadata": {},
   "outputs": [
    {
     "name": "stdout",
     "output_type": "stream",
     "text": [
      "9640\n"
     ]
    },
    {
     "data": {
      "text/plain": [
       "array(['8 years', '< 1 year', '10+ years', '2 years', '9 years', '7 years',\n",
       "       nan, '3 years', '1 year', '5 years', '4 years', '6 years'], dtype=object)"
      ]
     },
     "execution_count": 35,
     "metadata": {},
     "output_type": "execute_result"
    }
   ],
   "source": [
    "print (df['emplength'].isnull().sum())\n",
    "df['emplength'].unique()"
   ]
  },
  {
   "cell_type": "code",
   "execution_count": 36,
   "metadata": {},
   "outputs": [],
   "source": [
    "df['emplength'].replace('< 1 year', '0', inplace=True)\n",
    "df['emplength'].replace(to_replace='[^0-9]+', value='', inplace=True, regex=True)\n",
    "df.emplength.fillna(value=-999,inplace=True)\n",
    "df['emplength'] = df['emplength'].astype(int)"
   ]
  },
  {
   "cell_type": "code",
   "execution_count": 37,
   "metadata": {},
   "outputs": [
    {
     "data": {
      "text/plain": [
       " 10     51112\n",
       " 2      14656\n",
       " 3      13100\n",
       " 0      13051\n",
       " 1      10565\n",
       " 4       9662\n",
       "-999     9640\n",
       " 5       9146\n",
       " 7       8936\n",
       " 6       8203\n",
       " 8       8128\n",
       " 9       6275\n",
       "Name: emplength, dtype: int64"
      ]
     },
     "execution_count": 37,
     "metadata": {},
     "output_type": "execute_result"
    }
   ],
   "source": [
    "df.emplength.value_counts()"
   ]
  },
  {
   "cell_type": "code",
   "execution_count": 38,
   "metadata": {},
   "outputs": [
    {
     "name": "stdout",
     "output_type": "stream",
     "text": [
      "11 57\n"
     ]
    }
   ],
   "source": [
    "num_feature.append('emplength')\n",
    "cat_feature.remove('emplength')\n",
    "print (len(cat_feature), len(num_feature))"
   ]
  },
  {
   "cell_type": "markdown",
   "metadata": {},
   "source": [
    "### 2.3 Convert intrate, revolutil to numeric features: get rid of %"
   ]
  },
  {
   "cell_type": "code",
   "execution_count": 39,
   "metadata": {},
   "outputs": [],
   "source": [
    "intrate=df.intrate.apply(lambda x: float(x.replace('%','')))"
   ]
  },
  {
   "cell_type": "code",
   "execution_count": 40,
   "metadata": {},
   "outputs": [
    {
     "data": {
      "text/plain": [
       "1     6.99\n",
       "3    13.66\n",
       "Name: intrate, dtype: float64"
      ]
     },
     "execution_count": 40,
     "metadata": {},
     "output_type": "execute_result"
    }
   ],
   "source": [
    "df.intrate=intrate\n",
    "df.intrate[:2]"
   ]
  },
  {
   "cell_type": "code",
   "execution_count": 41,
   "metadata": {},
   "outputs": [
    {
     "data": {
      "text/plain": [
       "1    31.6%\n",
       "3    91.9%\n",
       "5    59.4%\n",
       "Name: revolutil, dtype: object"
      ]
     },
     "execution_count": 41,
     "metadata": {},
     "output_type": "execute_result"
    }
   ],
   "source": [
    "df.revolutil[:3]"
   ]
  },
  {
   "cell_type": "code",
   "execution_count": 42,
   "metadata": {},
   "outputs": [],
   "source": [
    "revolutil=df.revolutil.apply(lambda x: str(x).replace('%','')).astype(float)"
   ]
  },
  {
   "cell_type": "code",
   "execution_count": 43,
   "metadata": {},
   "outputs": [
    {
     "data": {
      "text/plain": [
       "1    31.6\n",
       "3    91.9\n",
       "Name: revolutil, dtype: float64"
      ]
     },
     "execution_count": 43,
     "metadata": {},
     "output_type": "execute_result"
    }
   ],
   "source": [
    "df.revolutil=revolutil\n",
    "df.revolutil[:2]"
   ]
  },
  {
   "cell_type": "code",
   "execution_count": 44,
   "metadata": {},
   "outputs": [],
   "source": [
    "cat_feature.remove('intrate')\n",
    "num_feature.append('intrate')\n",
    "cat_feature.remove('revolutil')\n",
    "num_feature.append('revolutil')"
   ]
  },
  {
   "cell_type": "code",
   "execution_count": 45,
   "metadata": {},
   "outputs": [
    {
     "name": "stdout",
     "output_type": "stream",
     "text": [
      "9 59\n"
     ]
    }
   ],
   "source": [
    "print (len(cat_feature), len(num_feature))"
   ]
  },
  {
   "cell_type": "markdown",
   "metadata": {},
   "source": [
    "### 2.4 Convert grade, subgrade to ordinal features"
   ]
  },
  {
   "cell_type": "code",
   "execution_count": 46,
   "metadata": {},
   "outputs": [],
   "source": [
    "Dic_grade = {\"A\": 1, \n",
    "            \"B\": 2, \n",
    "            \"C\": 3, \n",
    "            \"D\": 4, \n",
    "            \"E\": 5,\n",
    "            \"F\": 6, \n",
    "            \"G\": 7}"
   ]
  },
  {
   "cell_type": "code",
   "execution_count": 47,
   "metadata": {},
   "outputs": [],
   "source": [
    "df.grade = df.grade.map(Dic_grade)"
   ]
  },
  {
   "cell_type": "code",
   "execution_count": 48,
   "metadata": {},
   "outputs": [],
   "source": [
    "df.subgrade = df.subgrade.apply(lambda x: (Dic_grade[x[0]] - 1) * 5 + int(x[1]))"
   ]
  },
  {
   "cell_type": "code",
   "execution_count": 49,
   "metadata": {},
   "outputs": [],
   "source": [
    "cat_feature.remove('grade')\n",
    "num_feature.append('grade')\n",
    "cat_feature.remove('subgrade')\n",
    "num_feature.append('subgrade')"
   ]
  },
  {
   "cell_type": "code",
   "execution_count": 50,
   "metadata": {},
   "outputs": [
    {
     "name": "stdout",
     "output_type": "stream",
     "text": [
      "7 61\n"
     ]
    }
   ],
   "source": [
    "print (len(cat_feature), len(num_feature))"
   ]
  },
  {
   "cell_type": "markdown",
   "metadata": {},
   "source": [
    "### 2.5 Convert high cardinality features"
   ]
  },
  {
   "cell_type": "markdown",
   "metadata": {},
   "source": [
    "###### Zip Code - frequency encoding "
   ]
  },
  {
   "cell_type": "code",
   "execution_count": 51,
   "metadata": {},
   "outputs": [
    {
     "name": "stdout",
     "output_type": "stream",
     "text": [
      "854 ['937xx' '850xx' '077xx' '208xx' '483xx']\n"
     ]
    }
   ],
   "source": [
    "print (df.zipcode.nunique(), df.zipcode.unique()[:5])"
   ]
  },
  {
   "cell_type": "code",
   "execution_count": 52,
   "metadata": {},
   "outputs": [],
   "source": [
    "# convert zipcode to int\n",
    "df.zipcode = df.zipcode.apply(lambda x: int(x[0:3]))"
   ]
  },
  {
   "cell_type": "code",
   "execution_count": 53,
   "metadata": {},
   "outputs": [
    {
     "data": {
      "text/plain": [
       "1    937\n",
       "3    850\n",
       "5     77\n",
       "7    208\n",
       "9    483\n",
       "Name: zipcode, dtype: int64"
      ]
     },
     "execution_count": 53,
     "metadata": {},
     "output_type": "execute_result"
    }
   ],
   "source": [
    "df.zipcode[:5]"
   ]
  },
  {
   "cell_type": "code",
   "execution_count": 54,
   "metadata": {},
   "outputs": [],
   "source": [
    "zipcode_freq = df.groupby(\"zipcode\").size().reset_index()"
   ]
  },
  {
   "cell_type": "code",
   "execution_count": 55,
   "metadata": {},
   "outputs": [
    {
     "data": {
      "text/html": [
       "<div>\n",
       "<style scoped>\n",
       "    .dataframe tbody tr th:only-of-type {\n",
       "        vertical-align: middle;\n",
       "    }\n",
       "\n",
       "    .dataframe tbody tr th {\n",
       "        vertical-align: top;\n",
       "    }\n",
       "\n",
       "    .dataframe thead th {\n",
       "        text-align: right;\n",
       "    }\n",
       "</style>\n",
       "<table border=\"1\" class=\"dataframe\">\n",
       "  <thead>\n",
       "    <tr style=\"text-align: right;\">\n",
       "      <th></th>\n",
       "      <th>zipcode</th>\n",
       "      <th>0</th>\n",
       "    </tr>\n",
       "  </thead>\n",
       "  <tbody>\n",
       "    <tr>\n",
       "      <th>0</th>\n",
       "      <td>8</td>\n",
       "      <td>1</td>\n",
       "    </tr>\n",
       "    <tr>\n",
       "      <th>1</th>\n",
       "      <td>10</td>\n",
       "      <td>229</td>\n",
       "    </tr>\n",
       "    <tr>\n",
       "      <th>2</th>\n",
       "      <td>11</td>\n",
       "      <td>66</td>\n",
       "    </tr>\n",
       "    <tr>\n",
       "      <th>3</th>\n",
       "      <td>12</td>\n",
       "      <td>69</td>\n",
       "    </tr>\n",
       "    <tr>\n",
       "      <th>4</th>\n",
       "      <td>13</td>\n",
       "      <td>41</td>\n",
       "    </tr>\n",
       "  </tbody>\n",
       "</table>\n",
       "</div>"
      ],
      "text/plain": [
       "   zipcode    0\n",
       "0        8    1\n",
       "1       10  229\n",
       "2       11   66\n",
       "3       12   69\n",
       "4       13   41"
      ]
     },
     "execution_count": 55,
     "metadata": {},
     "output_type": "execute_result"
    }
   ],
   "source": [
    "zipcode_freq[:5]"
   ]
  },
  {
   "cell_type": "code",
   "execution_count": 56,
   "metadata": {},
   "outputs": [],
   "source": [
    "zipcode_freq.columns = [\"zipcode\", \"zipcode_freq\"]"
   ]
  },
  {
   "cell_type": "code",
   "execution_count": 57,
   "metadata": {},
   "outputs": [],
   "source": [
    "df = pd.merge(df, zipcode_freq, how = \"left\", on = \"zipcode\")"
   ]
  },
  {
   "cell_type": "code",
   "execution_count": 58,
   "metadata": {},
   "outputs": [
    {
     "data": {
      "text/plain": [
       "0    243\n",
       "1    735\n",
       "2    365\n",
       "3    434\n",
       "4    572\n",
       "Name: zipcode_freq, dtype: int64"
      ]
     },
     "execution_count": 58,
     "metadata": {},
     "output_type": "execute_result"
    }
   ],
   "source": [
    "df.zipcode_freq[:5]"
   ]
  },
  {
   "cell_type": "code",
   "execution_count": 59,
   "metadata": {},
   "outputs": [
    {
     "name": "stdout",
     "output_type": "stream",
     "text": [
      "6 63\n"
     ]
    }
   ],
   "source": [
    "cat_feature.remove('zipcode')\n",
    "num_feature.append('zipcode')\n",
    "num_feature.append('zipcode_freq')\n",
    "print (len(cat_feature), len(num_feature))"
   ]
  },
  {
   "cell_type": "markdown",
   "metadata": {},
   "source": [
    "###### Emptitle - frequency encoding"
   ]
  },
  {
   "cell_type": "code",
   "execution_count": 60,
   "metadata": {},
   "outputs": [],
   "source": [
    "emptitle_freq = df.groupby(\"emptitle\").size().reset_index()\n",
    "emptitle_freq.columns = [\"emptitle\", \"emptitle_freq\"]\n",
    "df = pd.merge(df, emptitle_freq, how = \"left\", on = \"emptitle\")"
   ]
  },
  {
   "cell_type": "code",
   "execution_count": 61,
   "metadata": {},
   "outputs": [
    {
     "name": "stdout",
     "output_type": "stream",
     "text": [
      "5 64\n"
     ]
    }
   ],
   "source": [
    "cat_feature.remove('emptitle')\n",
    "num_feature.append('emptitle_freq')\n",
    "print (len(cat_feature), len(num_feature))"
   ]
  },
  {
   "cell_type": "markdown",
   "metadata": {},
   "source": [
    "###### Addrstate - frequency encoding"
   ]
  },
  {
   "cell_type": "code",
   "execution_count": 62,
   "metadata": {},
   "outputs": [],
   "source": [
    "addrstate_freq = df.groupby(\"addrstate\").size().reset_index()\n",
    "addrstate_freq.columns = [\"addrstate\", \"addrstate_freq\"]\n",
    "df = pd.merge(df, addrstate_freq, how = \"left\", on = \"addrstate\")"
   ]
  },
  {
   "cell_type": "code",
   "execution_count": 63,
   "metadata": {},
   "outputs": [
    {
     "name": "stdout",
     "output_type": "stream",
     "text": [
      "4 65\n"
     ]
    }
   ],
   "source": [
    "cat_feature.remove('addrstate')\n",
    "num_feature.append('addrstate_freq')\n",
    "print (len(cat_feature), len(num_feature))"
   ]
  },
  {
   "cell_type": "markdown",
   "metadata": {},
   "source": [
    "#### One hot encoding"
   ]
  },
  {
   "cell_type": "code",
   "execution_count": 64,
   "metadata": {},
   "outputs": [
    {
     "data": {
      "text/plain": [
       "['initialliststatus', 'homeownership', 'purpose', 'verificationstatus']"
      ]
     },
     "execution_count": 64,
     "metadata": {},
     "output_type": "execute_result"
    }
   ],
   "source": [
    "cat_feature"
   ]
  },
  {
   "cell_type": "code",
   "execution_count": 65,
   "metadata": {},
   "outputs": [],
   "source": [
    "dummy_feature = cat_feature"
   ]
  },
  {
   "cell_type": "code",
   "execution_count": 66,
   "metadata": {},
   "outputs": [],
   "source": [
    "df_dummy = pd.get_dummies(df[dummy_feature])"
   ]
  },
  {
   "cell_type": "code",
   "execution_count": 67,
   "metadata": {},
   "outputs": [],
   "source": [
    "OHE_feature=list(df_dummy.columns.values)"
   ]
  },
  {
   "cell_type": "code",
   "execution_count": 68,
   "metadata": {},
   "outputs": [
    {
     "data": {
      "text/plain": [
       "22"
      ]
     },
     "execution_count": 68,
     "metadata": {},
     "output_type": "execute_result"
    }
   ],
   "source": [
    "len(OHE_feature)"
   ]
  },
  {
   "cell_type": "code",
   "execution_count": 69,
   "metadata": {},
   "outputs": [],
   "source": [
    "df=pd.concat([df,df_dummy], axis=1 )"
   ]
  },
  {
   "cell_type": "code",
   "execution_count": 70,
   "metadata": {},
   "outputs": [
    {
     "data": {
      "text/plain": [
       "(162474, 98)"
      ]
     },
     "execution_count": 70,
     "metadata": {},
     "output_type": "execute_result"
    }
   ],
   "source": [
    "df.shape"
   ]
  },
  {
   "cell_type": "code",
   "execution_count": 75,
   "metadata": {},
   "outputs": [],
   "source": [
    "for feat in dummy_feature:    \n",
    "    cat_feature.remove(feat)"
   ]
  },
  {
   "cell_type": "code",
   "execution_count": 76,
   "metadata": {},
   "outputs": [
    {
     "data": {
      "text/plain": [
       "0"
      ]
     },
     "execution_count": 76,
     "metadata": {},
     "output_type": "execute_result"
    }
   ],
   "source": [
    "len(cat_feature)"
   ]
  },
  {
   "cell_type": "code",
   "execution_count": 77,
   "metadata": {},
   "outputs": [],
   "source": [
    "select_feature=num_feature+OHE_feature"
   ]
  },
  {
   "cell_type": "code",
   "execution_count": 78,
   "metadata": {},
   "outputs": [
    {
     "data": {
      "text/plain": [
       "87"
      ]
     },
     "execution_count": 78,
     "metadata": {},
     "output_type": "execute_result"
    }
   ],
   "source": [
    "len(select_feature)"
   ]
  },
  {
   "cell_type": "markdown",
   "metadata": {},
   "source": [
    "##  3. XGBoost modeling: Preliminary"
   ]
  },
  {
   "cell_type": "code",
   "execution_count": 79,
   "metadata": {},
   "outputs": [
    {
     "name": "stdout",
     "output_type": "stream",
     "text": [
      "['percentbcgt75', 'mthssincerecentrevoldelinq', 'loanamnt', 'collections12mthsexmed', 'pubrecbankruptcies', 'numactvrevtl', 'taxliens', 'numiltl', 'totalrevhilim', 'delinq2yrs', 'accnowdelinq', 'avgcurbal', 'dti', 'accopenpast24mths', 'numbctl', 'numtl120dpd2m', 'revolbal', 'totcurbal', 'totalacc', 'openacc', 'tothicredlim', 'numsats', 'mosinoldilacct', 'mthssincelastdelinq', 'delinqamnt', 'totalbclimit', 'chargeoffwithin12mths', 'mthssincerecentinq', 'numrevtlbalgt0', 'numtl90gdpd24m', 'mthssincelastmajorderog', 'mthssincerecentbc', 'totalbalexmort', 'numacctsever120pd', 'mosinrcntrevtlop', 'mthssincerecentbcdlq', 'numtl30dpd', 'numtloppast12m', 'mosinrcnttl', 'numbcsats', 'pcttlnvrdlq', 'installment', 'mortacc', 'numactvbctl', 'mosinoldrevtlop', 'numrevaccts', 'mthssincelastrecord', 'pubrec', 'bcopentobuy', 'totcollamt', 'inqlast6mths', 'totalilhighcreditlimit', 'annualinc', 'bcutil', 'numoprevtl', 'earliestcrline_month', 'emplength', 'intrate', 'revolutil', 'grade', 'subgrade', 'zipcode', 'zipcode_freq', 'emptitle_freq', 'addrstate_freq', 'initialliststatus_f', 'initialliststatus_w', 'homeownership_ANY', 'homeownership_MORTGAGE', 'homeownership_OWN', 'homeownership_RENT', 'purpose_car', 'purpose_credit_card', 'purpose_debt_consolidation', 'purpose_home_improvement', 'purpose_house', 'purpose_major_purchase', 'purpose_medical', 'purpose_moving', 'purpose_other', 'purpose_renewable_energy', 'purpose_small_business', 'purpose_vacation', 'purpose_wedding', 'verificationstatus_Not Verified', 'verificationstatus_Source Verified', 'verificationstatus_Verified']\n"
     ]
    }
   ],
   "source": [
    "feat=select_feature\n",
    "print (feat)"
   ]
  },
  {
   "cell_type": "markdown",
   "metadata": {},
   "source": [
    "### Preliminary manually parameter tuning"
   ]
  },
  {
   "cell_type": "code",
   "execution_count": 121,
   "metadata": {},
   "outputs": [],
   "source": [
    "#from sklearn.model_selection import StratifiedKFold\n",
    "#from sklearn.model_selection import train_test_split"
   ]
  },
  {
   "cell_type": "code",
   "execution_count": 80,
   "metadata": {},
   "outputs": [],
   "source": [
    "df_train = df.query(\"train_flg == 1\")\n",
    "df_test =df.query(\"train_flg == 0\" )"
   ]
  },
  {
   "cell_type": "code",
   "execution_count": 81,
   "metadata": {},
   "outputs": [
    {
     "name": "stdout",
     "output_type": "stream",
     "text": [
      "(112548, 98) (49926, 98)\n"
     ]
    }
   ],
   "source": [
    "print (df_train.shape, df_test.shape)"
   ]
  },
  {
   "cell_type": "code",
   "execution_count": 125,
   "metadata": {},
   "outputs": [
    {
     "data": {
      "text/plain": [
       "(112548, 87)"
      ]
     },
     "execution_count": 125,
     "metadata": {},
     "output_type": "execute_result"
    }
   ],
   "source": [
    "df_train[feat].shape"
   ]
  },
  {
   "cell_type": "code",
   "execution_count": 122,
   "metadata": {},
   "outputs": [],
   "source": [
    "X_train, y_train = df_train[feat], df_train.loanstatus"
   ]
  },
  {
   "cell_type": "code",
   "execution_count": 123,
   "metadata": {},
   "outputs": [],
   "source": [
    "X_test, y_test = df_test[feat], df_test.loanstatus"
   ]
  },
  {
   "cell_type": "code",
   "execution_count": 124,
   "metadata": {},
   "outputs": [],
   "source": [
    "dtrain = xgb.DMatrix(X_train, y_train, missing = np.NAN)\n",
    "dtest = xgb.DMatrix(X_test, y_test, missing = np.NAN)"
   ]
  },
  {
   "cell_type": "code",
   "execution_count": 126,
   "metadata": {},
   "outputs": [],
   "source": [
    "metric = \"auc\"\n",
    "default_xgb_params = {}\n",
    "default_xgb_params[\"objective\"] = \"binary:logistic\"\n",
    "default_xgb_params[\"eta\"] = 0.10\n",
    "default_xgb_params[\"booster\"] = \"gbtree\"\n",
    "default_xgb_params[\"seed\"] = 1234\n",
    "default_xgb_params[\"metric\"] = metric\n",
    "\n",
    "params_xgb_space = {}\n",
    "params_xgb_space['max_depth'] = [4,5,6,7,8,9,10]\n",
    "params_xgb_space['gamma'] = [0, 0.1, 0.3, 1, 1.5, 2, 3]\n",
    "params_xgb_space['colsample_bytree'] = [0.1, 0.2, 0.3, 0.4, 0.5, 0.6, 0.7, 0.8, 0.9, 1]\n",
    "params_xgb_space['subsample'] = [0.1, 0.2, 0.3, 0.4, 0.5, 0.6, 0.7, 0.8, 0.9, 1]\n",
    "params_xgb_space['min_child_weight'] = [0, 1, 3, 10, 30, 100]\n",
    "\n",
    "greater_is_better = True"
   ]
  },
  {
   "cell_type": "code",
   "execution_count": 127,
   "metadata": {},
   "outputs": [
    {
     "name": "stdout",
     "output_type": "stream",
     "text": [
      "Tuning parameter max_depth in [4, 5, 6, 7, 8, 9, 10]\n",
      "    max_depth: 4, best_score: 0.689136, best_iteration: 192\n",
      "    max_depth: 5, best_score: 0.688072, best_iteration: 123\n",
      "    max_depth: 6, best_score: 0.685720, best_iteration: 89\n",
      "    max_depth: 7, best_score: 0.684310, best_iteration: 77\n",
      "    max_depth: 8, best_score: 0.682142, best_iteration: 58\n",
      "    max_depth: 9, best_score: 0.678605, best_iteration: 54\n",
      "    max_depth: 10, best_score: 0.677304, best_iteration: 60\n",
      "Best max_depth is 4 with a score of 0.689136\n",
      "Tuning parameter gamma in [0, 0.1, 0.3, 1, 1.5, 2, 3]\n",
      "    gamma: 0, best_score: 0.689136, best_iteration: 192\n",
      "    gamma: 0.1, best_score: 0.689008, best_iteration: 190\n",
      "    gamma: 0.3, best_score: 0.688862, best_iteration: 166\n",
      "    gamma: 1, best_score: 0.688929, best_iteration: 189\n",
      "    gamma: 1.5, best_score: 0.689542, best_iteration: 175\n",
      "    gamma: 2, best_score: 0.689008, best_iteration: 156\n",
      "    gamma: 3, best_score: 0.688882, best_iteration: 180\n",
      "Best gamma is 1.5 with a score of 0.689542\n",
      "Tuning parameter colsample_bytree in [0.1, 0.2, 0.3, 0.4, 0.5, 0.6, 0.7, 0.8, 0.9, 1]\n",
      "    colsample_bytree: 0.1, best_score: 0.688183, best_iteration: 214\n",
      "    colsample_bytree: 0.2, best_score: 0.688717, best_iteration: 161\n",
      "    colsample_bytree: 0.3, best_score: 0.689556, best_iteration: 201\n",
      "    colsample_bytree: 0.4, best_score: 0.689315, best_iteration: 193\n",
      "    colsample_bytree: 0.5, best_score: 0.688970, best_iteration: 238\n",
      "    colsample_bytree: 0.6, best_score: 0.689540, best_iteration: 199\n",
      "    colsample_bytree: 0.7, best_score: 0.688900, best_iteration: 172\n",
      "    colsample_bytree: 0.8, best_score: 0.688712, best_iteration: 153\n",
      "    colsample_bytree: 0.9, best_score: 0.689346, best_iteration: 148\n",
      "    colsample_bytree: 1, best_score: 0.689542, best_iteration: 175\n",
      "Best colsample_bytree is 0.3 with a score of 0.689556\n",
      "Tuning parameter subsample in [0.1, 0.2, 0.3, 0.4, 0.5, 0.6, 0.7, 0.8, 0.9, 1]\n",
      "    subsample: 0.1, best_score: 0.679716, best_iteration: 90\n",
      "    subsample: 0.2, best_score: 0.685068, best_iteration: 115\n",
      "    subsample: 0.3, best_score: 0.685779, best_iteration: 121\n",
      "    subsample: 0.4, best_score: 0.686896, best_iteration: 136\n",
      "    subsample: 0.5, best_score: 0.687465, best_iteration: 133\n",
      "    subsample: 0.6, best_score: 0.688999, best_iteration: 157\n",
      "    subsample: 0.7, best_score: 0.688166, best_iteration: 159\n",
      "    subsample: 0.8, best_score: 0.688727, best_iteration: 159\n",
      "    subsample: 0.9, best_score: 0.689017, best_iteration: 163\n",
      "    subsample: 1, best_score: 0.689556, best_iteration: 201\n",
      "Best subsample is 1 with a score of 0.689556\n",
      "Tuning parameter min_child_weight in [0, 1, 3, 10, 30, 100]\n",
      "    min_child_weight: 0, best_score: 0.689187, best_iteration: 192\n",
      "    min_child_weight: 1, best_score: 0.689556, best_iteration: 201\n",
      "    min_child_weight: 3, best_score: 0.689789, best_iteration: 215\n",
      "    min_child_weight: 10, best_score: 0.689512, best_iteration: 197\n",
      "    min_child_weight: 30, best_score: 0.689526, best_iteration: 177\n",
      "    min_child_weight: 100, best_score: 0.690587, best_iteration: 236\n",
      "Best min_child_weight is 100 with a score of 0.690587\n"
     ]
    }
   ],
   "source": [
    "best_xgb_params = default_xgb_params\n",
    "for p in params_xgb_space:\n",
    "    print (\"Tuning parameter %s in %s\" % (p, params_xgb_space[p]))\n",
    "\n",
    "    params = best_xgb_params\n",
    "    scores = []    \n",
    "    for v in params_xgb_space[p]:\n",
    "        print ('    %s: %s' % (p, v), end=\"\")\n",
    "        params[p] = v\n",
    "        cv_results = xgb.cv(params, \n",
    "                            dtrain,\n",
    "                            nfold=4,   \n",
    "                            num_boost_round=2000,\n",
    "                            early_stopping_rounds=50,\n",
    "                            metrics=metric,\n",
    "                            stratified=True,\n",
    "                            shuffle=True, \n",
    "                            verbose_eval=False)    \n",
    "        best_iteration = len(cv_results)\n",
    "        if greater_is_better:\n",
    "            best_score = cv_results['test-'+metric+'-mean'].max()\n",
    "        else:\n",
    "            best_score = cv_results['test-'+metric+'-mean'].min()\n",
    "        print (', best_score: %f, best_iteration: %d' % (best_score, best_iteration))\n",
    "        scores.append([v, best_score])\n",
    "    # best param value in the space\n",
    "    best_param_value = sorted(scores, key=lambda x:x[1],reverse=greater_is_better)[0][0]\n",
    "    best_param_score = sorted(scores, key=lambda x:x[1],reverse=greater_is_better)[0][1]\n",
    "    best_xgb_params[p] = best_param_value\n",
    "    print (\"Best %s is %s with a score of %f\" %(p, best_param_value, best_param_score))"
   ]
  },
  {
   "cell_type": "markdown",
   "metadata": {},
   "source": [
    "## 4. Tuning Hyperparameters with Bayesian Optimization"
   ]
  },
  {
   "cell_type": "markdown",
   "metadata": {},
   "source": [
    "### 4.1 Model tuning and evaluation"
   ]
  },
  {
   "cell_type": "code",
   "execution_count": 129,
   "metadata": {},
   "outputs": [
    {
     "name": "stdout",
     "output_type": "stream",
     "text": [
      "\u001b[31mInitialization\u001b[0m\n",
      "\u001b[94m---------------------------------------------------------------------------------------------------------------\u001b[0m\n",
      " Step |   Time |      Value |   colsample_bytree |     gamma |   max_depth |   min_child_weight |   subsample | \n",
      ", best_score: 0.689646, best_iteration: 306\n",
      "    1 | 01m03s | \u001b[35m   0.68965\u001b[0m | \u001b[32m            0.1411\u001b[0m | \u001b[32m   0.5545\u001b[0m | \u001b[32m     4.8459\u001b[0m | \u001b[32m          179.8986\u001b[0m | \u001b[32m     0.7155\u001b[0m | \n",
      ", best_score: 0.690458, best_iteration: 140\n",
      "    2 | 01m27s | \u001b[35m   0.69046\u001b[0m | \u001b[32m            0.3386\u001b[0m | \u001b[32m   2.6211\u001b[0m | \u001b[32m     7.7138\u001b[0m | \u001b[32m          178.7683\u001b[0m | \u001b[32m     0.8358\u001b[0m | \n",
      ", best_score: 0.689283, best_iteration: 122\n",
      "    3 | 01m01s |    0.68928 |             0.1876 |    2.9950 |      7.5159 |           149.9139 |      0.8926 | \n",
      ", best_score: 0.690281, best_iteration: 216\n",
      "    4 | 01m51s |    0.69028 |             0.4853 |    2.1831 |      4.5340 |           157.8239 |      0.6749 | \n",
      ", best_score: 0.688699, best_iteration: 146\n",
      "    5 | 00m56s |    0.68870 |             0.2042 |    2.0890 |      5.9647 |            22.7857 |      0.8351 | \n",
      "\u001b[31mBayesian Optimization\u001b[0m\n",
      "\u001b[94m---------------------------------------------------------------------------------------------------------------\u001b[0m\n",
      " Step |   Time |      Value |   colsample_bytree |     gamma |   max_depth |   min_child_weight |   subsample | \n",
      ", best_score: 0.687818, best_iteration: 134\n",
      "    6 | 00m50s |    0.68782 |             0.2107 |    0.3149 |      4.2427 |             0.0046 |      0.6679 | \n",
      ", best_score: 0.683812, best_iteration: 94\n",
      "    7 | 00m53s |    0.68381 |             0.2276 |    0.2568 |      7.7912 |             0.0015 |      0.9491 | \n",
      ", best_score: 0.691219, best_iteration: 397\n",
      "    8 | 02m12s | \u001b[35m   0.69122\u001b[0m | \u001b[32m            0.5617\u001b[0m | \u001b[32m   1.6012\u001b[0m | \u001b[32m     3.5345\u001b[0m | \u001b[32m          199.9824\u001b[0m | \u001b[32m     0.9513\u001b[0m | \n",
      ", best_score: 0.690701, best_iteration: 348\n",
      "    9 | 02m10s |    0.69070 |             0.5731 |    0.3774 |      3.2056 |           199.9948 |      0.8710 | \n",
      ", best_score: 0.690271, best_iteration: 297\n",
      "   10 | 01m59s |    0.69027 |             0.6472 |    0.2127 |      3.3855 |             0.0051 |      0.9355 | \n",
      ", best_score: 0.691099, best_iteration: 368\n",
      "   11 | 02m07s |    0.69110 |             0.4957 |    0.0887 |      3.0954 |           199.9771 |      0.8534 | \n",
      ", best_score: 0.684877, best_iteration: 75\n",
      "   12 | 01m26s |    0.68488 |             0.4568 |    0.3564 |      7.9054 |             0.0164 |      0.8855 | \n",
      ", best_score: 0.691169, best_iteration: 276\n",
      "   13 | 01m35s |    0.69117 |             0.4226 |    0.2812 |      3.0745 |           199.9900 |      0.6341 | \n",
      ", best_score: 0.690898, best_iteration: 292\n",
      "   14 | 01m38s |    0.69090 |             0.4075 |    2.9918 |      3.2824 |           199.9911 |      0.5269 | \n",
      ", best_score: 0.689999, best_iteration: 145\n",
      "   15 | 01m54s |    0.69000 |             0.4462 |    2.9896 |      7.8612 |           199.9940 |      0.6415 | \n",
      ", best_score: 0.684374, best_iteration: 83\n",
      "   16 | 01m18s |    0.68437 |             0.4154 |    1.6779 |      7.9281 |             0.0033 |      0.7886 | \n",
      ", best_score: 0.690937, best_iteration: 368\n",
      "   17 | 01m27s |    0.69094 |             0.2961 |    0.7175 |      3.1966 |           199.9988 |      0.8473 | \n",
      ", best_score: 0.691342, best_iteration: 356\n",
      "   18 | 01m49s | \u001b[35m   0.69134\u001b[0m | \u001b[32m            0.4228\u001b[0m | \u001b[32m   2.2214\u001b[0m | \u001b[32m     3.0082\u001b[0m | \u001b[32m          199.9958\u001b[0m | \u001b[32m     0.8125\u001b[0m | \n",
      ", best_score: 0.690768, best_iteration: 266\n",
      "   19 | 01m54s |    0.69077 |             0.6448 |    0.1338 |      3.5979 |           199.9928 |      0.6117 | \n",
      ", best_score: 0.690819, best_iteration: 134\n",
      "   20 | 01m26s |    0.69082 |             0.3683 |    2.7582 |      7.2014 |           200.0000 |      0.7967 | \n",
      ", best_score: 0.683696, best_iteration: 98\n",
      "   21 | 00m42s |    0.68370 |             0.1272 |    2.9203 |      7.6405 |             0.0019 |      0.8562 | \n",
      ", best_score: 0.690545, best_iteration: 248\n",
      "   22 | 01m52s |    0.69054 |             0.6742 |    1.8085 |      3.3135 |           199.9987 |      0.5610 | \n",
      ", best_score: 0.689400, best_iteration: 137\n",
      "   23 | 02m03s |    0.68940 |             0.5575 |    0.9760 |      7.6320 |           199.9992 |      0.8439 | \n",
      ", best_score: 0.691254, best_iteration: 334\n",
      "   24 | 01m51s |    0.69125 |             0.4555 |    0.6675 |      3.2025 |           199.9924 |      0.8635 | \n",
      ", best_score: 0.689228, best_iteration: 203\n",
      "   25 | 01m13s |    0.68923 |             0.1440 |    2.9746 |      7.9043 |           199.9978 |      0.8377 | \n",
      ", best_score: 0.690326, best_iteration: 291\n",
      "   26 | 02m13s |    0.69033 |             0.6500 |    2.5493 |      3.3683 |             0.0048 |      0.6811 | \n",
      ", best_score: 0.691103, best_iteration: 350\n",
      "   27 | 01m44s |    0.69110 |             0.3262 |    0.6054 |      3.0160 |           199.9872 |      0.7516 | \n",
      ", best_score: 0.690736, best_iteration: 233\n",
      "   28 | 01m20s |    0.69074 |             0.2275 |    2.6653 |      4.0334 |           199.9901 |      0.6804 | \n",
      ", best_score: 0.688483, best_iteration: 170\n",
      "   29 | 01m38s |    0.68848 |             0.5092 |    0.2328 |      4.0453 |             0.0131 |      0.7999 | \n",
      ", best_score: 0.691033, best_iteration: 308\n",
      "   30 | 02m00s |    0.69103 |             0.4900 |    2.7067 |      3.0039 |           199.9819 |      0.7760 | \n",
      ", best_score: 0.689891, best_iteration: 98\n",
      "   31 | 01m21s |    0.68989 |             0.4040 |    1.3268 |      7.9689 |           199.9862 |      0.9420 | \n",
      ", best_score: 0.689684, best_iteration: 246\n",
      "   32 | 02m03s |    0.68968 |             0.6608 |    0.5458 |      3.1195 |             0.0180 |      0.5623 | \n",
      ", best_score: 0.689877, best_iteration: 143\n",
      "   33 | 01m43s |    0.68988 |             0.4232 |    2.3766 |      7.5295 |           199.9953 |      0.5777 | \n",
      ", best_score: 0.690717, best_iteration: 299\n",
      "   34 | 01m32s |    0.69072 |             0.4771 |    2.2043 |      3.3013 |           199.9968 |      0.9926 | \n",
      ", best_score: 0.689429, best_iteration: 256\n",
      "   35 | 01m27s |    0.68943 |             0.5005 |    1.3803 |      3.0014 |             0.0031 |      0.9891 | \n",
      ", best_score: 0.690122, best_iteration: 143\n",
      "   36 | 01m45s |    0.69012 |             0.3738 |    2.8074 |      7.5589 |           199.9905 |      0.7591 | \n",
      ", best_score: 0.689699, best_iteration: 157\n",
      "   37 | 01m29s |    0.68970 |             0.2531 |    1.2143 |      7.9968 |           199.9910 |      0.8939 | \n",
      ", best_score: 0.689099, best_iteration: 257\n",
      "   38 | 01m29s |    0.68910 |             0.3679 |    2.5813 |      3.3017 |             0.0022 |      0.5704 | \n",
      ", best_score: 0.690709, best_iteration: 328\n",
      "   39 | 01m51s |    0.69071 |             0.4878 |    1.6313 |      3.3063 |           199.9998 |      0.9564 | \n",
      ", best_score: 0.690927, best_iteration: 391\n",
      "   40 | 01m28s |    0.69093 |             0.1841 |    2.6063 |      3.0701 |           199.9979 |      0.8480 | \n",
      ", best_score: 0.684429, best_iteration: 56\n",
      "   41 | 01m13s |    0.68443 |             0.3583 |    0.0336 |      7.8406 |             0.0008 |      0.6209 | \n",
      ", best_score: 0.691123, best_iteration: 347\n",
      "   42 | 02m06s |    0.69112 |             0.5231 |    0.9344 |      3.0879 |           199.9864 |      0.9406 | \n",
      ", best_score: 0.689929, best_iteration: 361\n",
      "   43 | 01m14s |    0.68993 |             0.1516 |    2.3916 |      3.5402 |           199.9917 |      0.9010 | \n",
      ", best_score: 0.690180, best_iteration: 380\n",
      "   44 | 01m28s |    0.69018 |             0.1415 |    0.6891 |      3.4041 |           199.9900 |      0.7260 | \n",
      ", best_score: 0.690977, best_iteration: 395\n",
      "   45 | 02m22s |    0.69098 |             0.4751 |    2.7863 |      3.1323 |           199.9888 |      0.9339 | \n"
     ]
    }
   ],
   "source": [
    "def xgb_evaluate(min_child_weight,\n",
    "                 colsample_bytree,\n",
    "                 max_depth,\n",
    "                 subsample,\n",
    "                 gamma):\n",
    "    params = dict()\n",
    "    params['objective'] = 'binary:logistic'\n",
    "    params['eta'] = 0.10\n",
    "    params['max_depth'] = int(max_depth )   \n",
    "    params['min_child_weight'] = int(min_child_weight)\n",
    "    params['colsample_bytree'] = colsample_bytree\n",
    "    params['subsample'] = subsample\n",
    "    params['gamma'] = gamma\n",
    "    params['seed'] = 1234    \n",
    "    \n",
    "\n",
    "    cv_results = xgb.cv(params, \n",
    "                        dtrain,\n",
    "                        nfold=4,   \n",
    "                        num_boost_round=2000,\n",
    "                        early_stopping_rounds=50,\n",
    "                        metrics=metric,\n",
    "                        stratified=True,\n",
    "                        shuffle=True,  \n",
    "                        verbose_eval=False)    \n",
    "    best_iteration = len(cv_results)\n",
    "    if greater_is_better:\n",
    "        best_score = cv_results['test-'+metric+'-mean'].max()\n",
    "    else:\n",
    "        best_score = -cv_results['test-'+metric+'-mean'].min()\n",
    "    print (', best_score: %f, best_iteration: %d' % (best_score, best_iteration))\n",
    "\n",
    "    return best_score\n",
    "\n",
    "\n",
    "xgb_BO = BayesianOptimization(xgb_evaluate, \n",
    "                             {'max_depth': (3, 8),\n",
    "                              'min_child_weight': (0, 200),\n",
    "                              'colsample_bytree': (0.1, 0.7),\n",
    "                              'subsample': (0.5, 1),\n",
    "                              'gamma': (0, 3)\n",
    "                             }\n",
    "                            )\n",
    "\n",
    "gp_params = {\"alpha\": 1e-4}\n",
    "xgb_BO.maximize(init_points=5, n_iter=40, **gp_params)"
   ]
  },
  {
   "cell_type": "markdown",
   "metadata": {},
   "source": [
    "#### Display tuning results"
   ]
  },
  {
   "cell_type": "code",
   "execution_count": 132,
   "metadata": {},
   "outputs": [
    {
     "data": {
      "text/html": [
       "<div>\n",
       "<style scoped>\n",
       "    .dataframe tbody tr th:only-of-type {\n",
       "        vertical-align: middle;\n",
       "    }\n",
       "\n",
       "    .dataframe tbody tr th {\n",
       "        vertical-align: top;\n",
       "    }\n",
       "\n",
       "    .dataframe thead th {\n",
       "        text-align: right;\n",
       "    }\n",
       "</style>\n",
       "<table border=\"1\" class=\"dataframe\">\n",
       "  <thead>\n",
       "    <tr style=\"text-align: right;\">\n",
       "      <th></th>\n",
       "      <th>colsample_bytree</th>\n",
       "      <th>gamma</th>\n",
       "      <th>max_depth</th>\n",
       "      <th>min_child_weight</th>\n",
       "      <th>subsample</th>\n",
       "      <th>score</th>\n",
       "    </tr>\n",
       "  </thead>\n",
       "  <tbody>\n",
       "    <tr>\n",
       "      <th>12</th>\n",
       "      <td>0.422818</td>\n",
       "      <td>2.221431</td>\n",
       "      <td>3.008174</td>\n",
       "      <td>199.995817</td>\n",
       "      <td>0.812466</td>\n",
       "      <td>0.691342</td>\n",
       "    </tr>\n",
       "    <tr>\n",
       "      <th>18</th>\n",
       "      <td>0.455535</td>\n",
       "      <td>0.667496</td>\n",
       "      <td>3.202454</td>\n",
       "      <td>199.992415</td>\n",
       "      <td>0.863513</td>\n",
       "      <td>0.691254</td>\n",
       "    </tr>\n",
       "    <tr>\n",
       "      <th>2</th>\n",
       "      <td>0.561707</td>\n",
       "      <td>1.601227</td>\n",
       "      <td>3.534461</td>\n",
       "      <td>199.982414</td>\n",
       "      <td>0.951295</td>\n",
       "      <td>0.691219</td>\n",
       "    </tr>\n",
       "    <tr>\n",
       "      <th>7</th>\n",
       "      <td>0.422639</td>\n",
       "      <td>0.281223</td>\n",
       "      <td>3.074517</td>\n",
       "      <td>199.989994</td>\n",
       "      <td>0.634084</td>\n",
       "      <td>0.691169</td>\n",
       "    </tr>\n",
       "    <tr>\n",
       "      <th>36</th>\n",
       "      <td>0.523079</td>\n",
       "      <td>0.934374</td>\n",
       "      <td>3.087949</td>\n",
       "      <td>199.986356</td>\n",
       "      <td>0.940650</td>\n",
       "      <td>0.691123</td>\n",
       "    </tr>\n",
       "  </tbody>\n",
       "</table>\n",
       "</div>"
      ],
      "text/plain": [
       "    colsample_bytree     gamma  max_depth  min_child_weight  subsample  \\\n",
       "12          0.422818  2.221431   3.008174        199.995817   0.812466   \n",
       "18          0.455535  0.667496   3.202454        199.992415   0.863513   \n",
       "2           0.561707  1.601227   3.534461        199.982414   0.951295   \n",
       "7           0.422639  0.281223   3.074517        199.989994   0.634084   \n",
       "36          0.523079  0.934374   3.087949        199.986356   0.940650   \n",
       "\n",
       "       score  \n",
       "12  0.691342  \n",
       "18  0.691254  \n",
       "2   0.691219  \n",
       "7   0.691169  \n",
       "36  0.691123  "
      ]
     },
     "execution_count": 132,
     "metadata": {},
     "output_type": "execute_result"
    }
   ],
   "source": [
    "xgb_BO_scores = pd.DataFrame(xgb_BO.res['all']['params'])\n",
    "xgb_BO_scores['score'] = pd.DataFrame(xgb_BO.res['all']['values'])\n",
    "xgb_BO_scores = xgb_BO_scores.sort_values(by='score',ascending=False)\n",
    "xgb_BO_scores[:5]"
   ]
  },
  {
   "cell_type": "markdown",
   "metadata": {},
   "source": [
    "### 4.2 Retrain the model and draw the ROC curve"
   ]
  },
  {
   "cell_type": "code",
   "execution_count": 136,
   "metadata": {},
   "outputs": [
    {
     "name": "stdout",
     "output_type": "stream",
     "text": [
      "{'colsample_bytree': 0.4228184821502302, 'gamma': 2.221430786700525, 'max_depth': 3, 'min_child_weight': 199.99581724736368, 'subsample': 0.8124661057820475, 'score': 0.6913417500000001, 'objective': 'binary:logistic', 'eta': 0.01, 'booster': 'gbtree', 'seed': 1234}\n"
     ]
    }
   ],
   "source": [
    "best_xgb_params = xgb_BO_scores.iloc[0].to_dict()\n",
    "best_xgb_params['objective'] = 'binary:logistic'\n",
    "best_xgb_params['eta'] = 0.01  # Smaller\n",
    "best_xgb_params['booster'] = 'gbtree' \n",
    "\n",
    "best_xgb_params['max_depth'] = int(best_xgb_params['max_depth'])\n",
    "best_xgb_params['min_child_weight'] = best_xgb_params['min_child_weight']\n",
    "best_xgb_params['subsample'] = best_xgb_params['subsample']\n",
    "best_xgb_params['colsample_bytree'] = best_xgb_params['colsample_bytree']\n",
    "best_xgb_params['gamma'] = best_xgb_params['gamma']\n",
    "best_xgb_params['seed'] = 1234\n",
    "\n",
    "print (best_xgb_params)\n",
    "\n",
    "model = xgb.train(best_xgb_params, \n",
    "                  dtrain, \n",
    "                  num_boost_round=best_xgb_iteration)    "
   ]
  },
  {
   "cell_type": "code",
   "execution_count": 135,
   "metadata": {},
   "outputs": [
    {
     "data": {
      "text/plain": [
       "<xgboost.core.Booster at 0x1ee03de21d0>"
      ]
     },
     "execution_count": 135,
     "metadata": {},
     "output_type": "execute_result"
    }
   ],
   "source": [
    "model"
   ]
  },
  {
   "cell_type": "code",
   "execution_count": 137,
   "metadata": {},
   "outputs": [],
   "source": [
    "from sklearn.metrics import roc_curve, auc\n",
    "from sklearn import linear_model #, datasets\n",
    "import pylab as pl\n",
    "def draw_ROC(model, dtrain, dtest, y_train, y_test):    \n",
    "    probas_1 = model.predict(dtrain, ntree_limit=model.best_ntree_limit)\n",
    "    probas_2 = model.predict(dtest, ntree_limit=model.best_ntree_limit)    \n",
    "    fpr_1, tpr_1, thresholds_1 = roc_curve(y_train, probas_1)\n",
    "    fpr_2, tpr_2, thresholds_2 = roc_curve(y_test, probas_2)    \n",
    "    roc_auc_1 = auc(fpr_1, tpr_1)\n",
    "    roc_auc_2 = auc(fpr_2, tpr_2)\n",
    "    print (\"Area under the ROC curve - train: %f\" % roc_auc_1)\n",
    "    print (\"Area under the ROC curve - test: %f\" % roc_auc_2)\n",
    "    # Plot ROC curve\n",
    "    plt.figure(figsize=(8,8))    \n",
    "    plt.plot(fpr_1, tpr_1, label='ROC curve - train (AUC = %0.2f)' % roc_auc_1, color='b')\n",
    "    plt.plot(fpr_2, tpr_2, label='ROC curve - test(AUC = %0.2f)' % roc_auc_2, color='g')\n",
    "    plt.plot([0, 1], [0, 1], 'k--')\n",
    "    plt.xlim([0.0, 1.0])\n",
    "    plt.ylim([0.0, 1.0])\n",
    "    plt.xlabel('False Positive Rate')\n",
    "    plt.ylabel('True Positive Rate')\n",
    "    plt.title('ROC for lead score model')\n",
    "    plt.legend(loc=\"lower right\")\n",
    "    plt.show()"
   ]
  },
  {
   "cell_type": "markdown",
   "metadata": {},
   "source": [
    "#### ROC curve"
   ]
  },
  {
   "cell_type": "code",
   "execution_count": 138,
   "metadata": {},
   "outputs": [
    {
     "name": "stdout",
     "output_type": "stream",
     "text": [
      "Area under the ROC curve - train: 0.676741\n",
      "Area under the ROC curve - test: 0.687094\n"
     ]
    },
    {
     "data": {
      "image/png": "[encoded data removed]",
      "text/plain": [
       "<matplotlib.figure.Figure at 0x1ee04d32a90>"
      ]
     },
     "metadata": {},
     "output_type": "display_data"
    }
   ],
   "source": [
    "draw_ROC(model, dtrain, dtest, y_train, y_test)"
   ]
  },
  {
   "cell_type": "markdown",
   "metadata": {},
   "source": [
    "#### Distribution of predicted values"
   ]
  },
  {
   "cell_type": "code",
   "execution_count": 139,
   "metadata": {},
   "outputs": [
    {
     "name": "stdout",
     "output_type": "stream",
     "text": [
      "0.314763 0.0725617 0.16654\n"
     ]
    }
   ],
   "source": [
    "y_pred = model.predict(dtest)\n",
    "print (y_pred.max(), y_pred.min(), y_pred.mean())"
   ]
  },
  {
   "cell_type": "markdown",
   "metadata": {},
   "source": [
    "# 5. Feature Importance"
   ]
  },
  {
   "cell_type": "code",
   "execution_count": 144,
   "metadata": {},
   "outputs": [],
   "source": [
    "importance=model.get_fscore()"
   ]
  },
  {
   "cell_type": "code",
   "execution_count": 155,
   "metadata": {},
   "outputs": [],
   "source": [
    "df_importance = pd.DataFrame(list(importance.items()), columns=['feature', 'fscore'])"
   ]
  },
  {
   "cell_type": "markdown",
   "metadata": {},
   "source": [
    "** Display features and their relative importance in table, from the most to the least important **"
   ]
  },
  {
   "cell_type": "code",
   "execution_count": 157,
   "metadata": {},
   "outputs": [
    {
     "data": {
      "text/html": [
       "<div>\n",
       "<style scoped>\n",
       "    .dataframe tbody tr th:only-of-type {\n",
       "        vertical-align: middle;\n",
       "    }\n",
       "\n",
       "    .dataframe tbody tr th {\n",
       "        vertical-align: top;\n",
       "    }\n",
       "\n",
       "    .dataframe thead th {\n",
       "        text-align: right;\n",
       "    }\n",
       "</style>\n",
       "<table border=\"1\" class=\"dataframe\">\n",
       "  <thead>\n",
       "    <tr style=\"text-align: right;\">\n",
       "      <th></th>\n",
       "      <th>feature</th>\n",
       "      <th>fscore</th>\n",
       "    </tr>\n",
       "  </thead>\n",
       "  <tbody>\n",
       "    <tr>\n",
       "      <th>1</th>\n",
       "      <td>intrate</td>\n",
       "      <td>0.176364</td>\n",
       "    </tr>\n",
       "    <tr>\n",
       "      <th>0</th>\n",
       "      <td>subgrade</td>\n",
       "      <td>0.164848</td>\n",
       "    </tr>\n",
       "    <tr>\n",
       "      <th>12</th>\n",
       "      <td>annualinc</td>\n",
       "      <td>0.093939</td>\n",
       "    </tr>\n",
       "    <tr>\n",
       "      <th>15</th>\n",
       "      <td>dti</td>\n",
       "      <td>0.070303</td>\n",
       "    </tr>\n",
       "    <tr>\n",
       "      <th>7</th>\n",
       "      <td>grade</td>\n",
       "      <td>0.066061</td>\n",
       "    </tr>\n",
       "    <tr>\n",
       "      <th>2</th>\n",
       "      <td>avgcurbal</td>\n",
       "      <td>0.060000</td>\n",
       "    </tr>\n",
       "    <tr>\n",
       "      <th>17</th>\n",
       "      <td>accopenpast24mths</td>\n",
       "      <td>0.058788</td>\n",
       "    </tr>\n",
       "    <tr>\n",
       "      <th>3</th>\n",
       "      <td>tothicredlim</td>\n",
       "      <td>0.036970</td>\n",
       "    </tr>\n",
       "    <tr>\n",
       "      <th>10</th>\n",
       "      <td>installment</td>\n",
       "      <td>0.033333</td>\n",
       "    </tr>\n",
       "    <tr>\n",
       "      <th>20</th>\n",
       "      <td>mosinoldrevtlop</td>\n",
       "      <td>0.024242</td>\n",
       "    </tr>\n",
       "    <tr>\n",
       "      <th>11</th>\n",
       "      <td>homeownership_RENT</td>\n",
       "      <td>0.022424</td>\n",
       "    </tr>\n",
       "    <tr>\n",
       "      <th>24</th>\n",
       "      <td>emptitle_freq</td>\n",
       "      <td>0.019394</td>\n",
       "    </tr>\n",
       "    <tr>\n",
       "      <th>13</th>\n",
       "      <td>loanamnt</td>\n",
       "      <td>0.019394</td>\n",
       "    </tr>\n",
       "    <tr>\n",
       "      <th>18</th>\n",
       "      <td>bcopentobuy</td>\n",
       "      <td>0.018182</td>\n",
       "    </tr>\n",
       "    <tr>\n",
       "      <th>9</th>\n",
       "      <td>mortacc</td>\n",
       "      <td>0.017576</td>\n",
       "    </tr>\n",
       "    <tr>\n",
       "      <th>4</th>\n",
       "      <td>numtloppast12m</td>\n",
       "      <td>0.015152</td>\n",
       "    </tr>\n",
       "    <tr>\n",
       "      <th>14</th>\n",
       "      <td>emplength</td>\n",
       "      <td>0.013939</td>\n",
       "    </tr>\n",
       "    <tr>\n",
       "      <th>8</th>\n",
       "      <td>homeownership_MORTGAGE</td>\n",
       "      <td>0.013939</td>\n",
       "    </tr>\n",
       "    <tr>\n",
       "      <th>28</th>\n",
       "      <td>totcurbal</td>\n",
       "      <td>0.009697</td>\n",
       "    </tr>\n",
       "    <tr>\n",
       "      <th>5</th>\n",
       "      <td>totalbclimit</td>\n",
       "      <td>0.009091</td>\n",
       "    </tr>\n",
       "    <tr>\n",
       "      <th>21</th>\n",
       "      <td>mosinrcnttl</td>\n",
       "      <td>0.007879</td>\n",
       "    </tr>\n",
       "    <tr>\n",
       "      <th>30</th>\n",
       "      <td>mthssincerecentinq</td>\n",
       "      <td>0.007879</td>\n",
       "    </tr>\n",
       "    <tr>\n",
       "      <th>6</th>\n",
       "      <td>percentbcgt75</td>\n",
       "      <td>0.007273</td>\n",
       "    </tr>\n",
       "    <tr>\n",
       "      <th>31</th>\n",
       "      <td>mthssincerecentbc</td>\n",
       "      <td>0.006061</td>\n",
       "    </tr>\n",
       "    <tr>\n",
       "      <th>19</th>\n",
       "      <td>totalrevhilim</td>\n",
       "      <td>0.004848</td>\n",
       "    </tr>\n",
       "    <tr>\n",
       "      <th>29</th>\n",
       "      <td>earliestcrline_month</td>\n",
       "      <td>0.003636</td>\n",
       "    </tr>\n",
       "    <tr>\n",
       "      <th>22</th>\n",
       "      <td>numactvrevtl</td>\n",
       "      <td>0.003636</td>\n",
       "    </tr>\n",
       "    <tr>\n",
       "      <th>25</th>\n",
       "      <td>inqlast6mths</td>\n",
       "      <td>0.002424</td>\n",
       "    </tr>\n",
       "    <tr>\n",
       "      <th>26</th>\n",
       "      <td>numrevtlbalgt0</td>\n",
       "      <td>0.002424</td>\n",
       "    </tr>\n",
       "    <tr>\n",
       "      <th>27</th>\n",
       "      <td>mosinrcntrevtlop</td>\n",
       "      <td>0.002424</td>\n",
       "    </tr>\n",
       "    <tr>\n",
       "      <th>23</th>\n",
       "      <td>mthssincelastdelinq</td>\n",
       "      <td>0.001818</td>\n",
       "    </tr>\n",
       "    <tr>\n",
       "      <th>16</th>\n",
       "      <td>revolutil</td>\n",
       "      <td>0.001818</td>\n",
       "    </tr>\n",
       "    <tr>\n",
       "      <th>33</th>\n",
       "      <td>bcutil</td>\n",
       "      <td>0.001212</td>\n",
       "    </tr>\n",
       "    <tr>\n",
       "      <th>32</th>\n",
       "      <td>mthssincelastmajorderog</td>\n",
       "      <td>0.000606</td>\n",
       "    </tr>\n",
       "    <tr>\n",
       "      <th>34</th>\n",
       "      <td>pcttlnvrdlq</td>\n",
       "      <td>0.000606</td>\n",
       "    </tr>\n",
       "    <tr>\n",
       "      <th>35</th>\n",
       "      <td>verificationstatus_Not Verified</td>\n",
       "      <td>0.000606</td>\n",
       "    </tr>\n",
       "    <tr>\n",
       "      <th>36</th>\n",
       "      <td>totalilhighcreditlimit</td>\n",
       "      <td>0.000606</td>\n",
       "    </tr>\n",
       "    <tr>\n",
       "      <th>37</th>\n",
       "      <td>mthssincelastrecord</td>\n",
       "      <td>0.000606</td>\n",
       "    </tr>\n",
       "  </tbody>\n",
       "</table>\n",
       "</div>"
      ],
      "text/plain": [
       "                            feature    fscore\n",
       "1                           intrate  0.176364\n",
       "0                          subgrade  0.164848\n",
       "12                        annualinc  0.093939\n",
       "15                              dti  0.070303\n",
       "7                             grade  0.066061\n",
       "2                         avgcurbal  0.060000\n",
       "17                accopenpast24mths  0.058788\n",
       "3                      tothicredlim  0.036970\n",
       "10                      installment  0.033333\n",
       "20                  mosinoldrevtlop  0.024242\n",
       "11               homeownership_RENT  0.022424\n",
       "24                    emptitle_freq  0.019394\n",
       "13                         loanamnt  0.019394\n",
       "18                      bcopentobuy  0.018182\n",
       "9                           mortacc  0.017576\n",
       "4                    numtloppast12m  0.015152\n",
       "14                        emplength  0.013939\n",
       "8            homeownership_MORTGAGE  0.013939\n",
       "28                        totcurbal  0.009697\n",
       "5                      totalbclimit  0.009091\n",
       "21                      mosinrcnttl  0.007879\n",
       "30               mthssincerecentinq  0.007879\n",
       "6                     percentbcgt75  0.007273\n",
       "31                mthssincerecentbc  0.006061\n",
       "19                    totalrevhilim  0.004848\n",
       "29             earliestcrline_month  0.003636\n",
       "22                     numactvrevtl  0.003636\n",
       "25                     inqlast6mths  0.002424\n",
       "26                   numrevtlbalgt0  0.002424\n",
       "27                 mosinrcntrevtlop  0.002424\n",
       "23              mthssincelastdelinq  0.001818\n",
       "16                        revolutil  0.001818\n",
       "33                           bcutil  0.001212\n",
       "32          mthssincelastmajorderog  0.000606\n",
       "34                      pcttlnvrdlq  0.000606\n",
       "35  verificationstatus_Not Verified  0.000606\n",
       "36           totalilhighcreditlimit  0.000606\n",
       "37              mthssincelastrecord  0.000606"
      ]
     },
     "execution_count": 157,
     "metadata": {},
     "output_type": "execute_result"
    }
   ],
   "source": [
    "df_importance['fscore'] = df_importance['fscore'] / df_importance['fscore'].sum()\n",
    "\n",
    "df_importance.sort_values(['fscore'], ascending=False, inplace=True)\n",
    "df_importance"
   ]
  },
  {
   "cell_type": "markdown",
   "metadata": {},
   "source": [
    "** Plot the relative importance of all features **"
   ]
  },
  {
   "cell_type": "code",
   "execution_count": 160,
   "metadata": {},
   "outputs": [
    {
     "data": {
      "text/plain": [
       "Text(0.5,0,'relative importance')"
      ]
     },
     "execution_count": 160,
     "metadata": {},
     "output_type": "execute_result"
    },
    {
     "data": {
      "text/plain": [
       "<matplotlib.figure.Figure at 0x1ee03eadeb8>"
      ]
     },
     "metadata": {},
     "output_type": "display_data"
    },
    {
     "data": {
      "image/png": "[encoded data removed]",
      "text/plain": [
       "<matplotlib.figure.Figure at 0x1ee029bc8d0>"
      ]
     },
     "metadata": {},
     "output_type": "display_data"
    }
   ],
   "source": [
    "plt.figure(figsize=(32, 32))\n",
    "# df_importance.plot()\n",
    "df_importance.plot(kind='barh', x='feature', y='fscore', legend=False, figsize=(6, 10))\n",
    "plt.title('XGBoost Feature Importance')\n",
    "plt.xlabel('relative importance')"
   ]
  },
  {
   "cell_type": "markdown",
   "metadata": {},
   "source": [
    "** Plot the relative importance of the 20 most important features **"
   ]
  },
  {
   "cell_type": "code",
   "execution_count": 161,
   "metadata": {},
   "outputs": [
    {
     "data": {
      "text/plain": [
       "<matplotlib.figure.Figure at 0x1ee0a9a7080>"
      ]
     },
     "metadata": {},
     "output_type": "display_data"
    },
    {
     "data": {
      "image/png": "[encoded data removed]",
      "text/plain": [
       "<matplotlib.figure.Figure at 0x1ee0aa415c0>"
      ]
     },
     "metadata": {},
     "output_type": "display_data"
    }
   ],
   "source": [
    "plt.figure(figsize=(32, 32))\n",
    "# df_importance.plot()\n",
    "df_importance[:20].plot(kind='barh', x='feature', y='fscore', legend=False, figsize=(6, 10))\n",
    "plt.title('XGBoost Feature Importance')\n",
    "plt.xlabel('relative importance')\n",
    "plt.gcf().savefig('feature_importance_xgb.png')"
   ]
  },
  {
   "cell_type": "code",
   "execution_count": 162,
   "metadata": {},
   "outputs": [
    {
     "data": {
      "text/html": [
       "<div>\n",
       "<style scoped>\n",
       "    .dataframe tbody tr th:only-of-type {\n",
       "        vertical-align: middle;\n",
       "    }\n",
       "\n",
       "    .dataframe tbody tr th {\n",
       "        vertical-align: top;\n",
       "    }\n",
       "\n",
       "    .dataframe thead th {\n",
       "        text-align: right;\n",
       "    }\n",
       "</style>\n",
       "<table border=\"1\" class=\"dataframe\">\n",
       "  <thead>\n",
       "    <tr style=\"text-align: right;\">\n",
       "      <th></th>\n",
       "      <th>feature</th>\n",
       "      <th>fscore</th>\n",
       "    </tr>\n",
       "  </thead>\n",
       "  <tbody>\n",
       "    <tr>\n",
       "      <th>7</th>\n",
       "      <td>grade</td>\n",
       "      <td>0.066061</td>\n",
       "    </tr>\n",
       "  </tbody>\n",
       "</table>\n",
       "</div>"
      ],
      "text/plain": [
       "  feature    fscore\n",
       "7   grade  0.066061"
      ]
     },
     "execution_count": 162,
     "metadata": {},
     "output_type": "execute_result"
    }
   ],
   "source": [
    "grade_importance = df_importance.query(\"feature=='grade'\")\n",
    "grade_importance"
   ]
  },
  {
   "cell_type": "code",
   "execution_count": 163,
   "metadata": {},
   "outputs": [
    {
     "data": {
      "text/html": [
       "<div>\n",
       "<style scoped>\n",
       "    .dataframe tbody tr th:only-of-type {\n",
       "        vertical-align: middle;\n",
       "    }\n",
       "\n",
       "    .dataframe tbody tr th {\n",
       "        vertical-align: top;\n",
       "    }\n",
       "\n",
       "    .dataframe thead th {\n",
       "        text-align: right;\n",
       "    }\n",
       "</style>\n",
       "<table border=\"1\" class=\"dataframe\">\n",
       "  <thead>\n",
       "    <tr style=\"text-align: right;\">\n",
       "      <th></th>\n",
       "      <th>feature</th>\n",
       "      <th>fscore</th>\n",
       "    </tr>\n",
       "  </thead>\n",
       "  <tbody>\n",
       "    <tr>\n",
       "      <th>0</th>\n",
       "      <td>subgrade</td>\n",
       "      <td>0.164848</td>\n",
       "    </tr>\n",
       "  </tbody>\n",
       "</table>\n",
       "</div>"
      ],
      "text/plain": [
       "    feature    fscore\n",
       "0  subgrade  0.164848"
      ]
     },
     "execution_count": 163,
     "metadata": {},
     "output_type": "execute_result"
    }
   ],
   "source": [
    "subgrade_importance = df_importance.query(\"feature=='subgrade'\")\n",
    "subgrade_importance"
   ]
  },
  {
   "cell_type": "code",
   "execution_count": 131,
   "metadata": {},
   "outputs": [
    {
     "data": {
      "text/html": [
       "<div>\n",
       "<style>\n",
       "    .dataframe thead tr:only-child th {\n",
       "        text-align: right;\n",
       "    }\n",
       "\n",
       "    .dataframe thead th {\n",
       "        text-align: left;\n",
       "    }\n",
       "\n",
       "    .dataframe tbody tr th {\n",
       "        vertical-align: top;\n",
       "    }\n",
       "</style>\n",
       "<table border=\"1\" class=\"dataframe\">\n",
       "  <thead>\n",
       "    <tr style=\"text-align: right;\">\n",
       "      <th></th>\n",
       "      <th>feature</th>\n",
       "      <th>fscore</th>\n",
       "    </tr>\n",
       "  </thead>\n",
       "  <tbody>\n",
       "    <tr>\n",
       "      <th>59</th>\n",
       "      <td>intrate</td>\n",
       "      <td>0.030945</td>\n",
       "    </tr>\n",
       "  </tbody>\n",
       "</table>\n",
       "</div>"
      ],
      "text/plain": [
       "    feature    fscore\n",
       "59  intrate  0.030945"
      ]
     },
     "execution_count": 131,
     "metadata": {},
     "output_type": "execute_result"
    }
   ],
   "source": [
    "intrate_importance = df_importance.query(\"feature=='intrate'\")\n",
    "intrate_importance"
   ]
  },
  {
   "cell_type": "markdown",
   "metadata": {},
   "source": [
    "# 6. Save the model"
   ]
  },
  {
   "cell_type": "code",
   "execution_count": 164,
   "metadata": {},
   "outputs": [],
   "source": [
    "import pickle"
   ]
  },
  {
   "cell_type": "code",
   "execution_count": 167,
   "metadata": {},
   "outputs": [],
   "source": [
    "with open('model.pkl', 'wb') as outfile:  \n",
    "    pickle.dump(model, outfile)"
   ]
  },
  {
   "cell_type": "code",
   "execution_count": null,
   "metadata": {
    "collapsed": true
   },
   "outputs": [],
   "source": []
  }
 ],
 "metadata": {
  "anaconda-cloud": {},
  "kernelspec": {
   "display_name": "Python 3",
   "language": "python",
   "name": "python3"
  },
  "language_info": {
   "codemirror_mode": {
    "name": "ipython",
    "version": 3
   },
   "file_extension": ".py",
   "mimetype": "text/x-python",
   "name": "python",
   "nbconvert_exporter": "python",
   "pygments_lexer": "ipython3",
   "version": "3.6.0"
  },
  "toc": {
   "nav_menu": {},
   "number_sections": true,
   "sideBar": true,
   "skip_h1_title": false,
   "toc_cell": false,
   "toc_position": {},
   "toc_section_display": "block",
   "toc_window_display": false
  }
 },
 "nbformat": 4,
 "nbformat_minor": 1
}
